{
 "cells": [
  {
   "cell_type": "markdown",
   "id": "999e6d03",
   "metadata": {},
   "source": [
    "# Importando e processando os dados"
   ]
  },
  {
   "cell_type": "code",
   "execution_count": null,
   "id": "76b780fa",
   "metadata": {},
   "outputs": [],
   "source": [
    "import numpy as np\n",
    "import pandas as pd\n",
    "from tqdm import tqdm"
   ]
  },
  {
   "cell_type": "code",
   "execution_count": null,
   "id": "61e375a6",
   "metadata": {},
   "outputs": [],
   "source": [
    "train = pd.read_csv(\"train.csv\", sep=\";\")\n",
    "test = pd.read_csv(\"test.csv\", sep=\";\")\n",
    "\n",
    "print(\"Formato do train.csv:\", train.shape)\n",
    "print(\"Formato do test.csv:\", test.shape)\n",
    "\n",
    "train.head()"
   ]
  },
  {
   "cell_type": "code",
   "execution_count": null,
   "id": "aad4303e",
   "metadata": {},
   "outputs": [],
   "source": [
    "def calcular_intensidade(imagem):\n",
    "    return np.sum(imagem) / 255\n",
    "\n",
    "def calcular_simetria(imagem):\n",
    "    matriz = imagem.reshape(28, 28)\n",
    "\n",
    "    sim_v = np.sum(np.abs(matriz[:, :14] - np.fliplr(matriz[:, 14:])))\n",
    "\n",
    "    sim_h = np.sum(np.abs(matriz[:14, :] - np.flipud(matriz[14:, :])))\n",
    "\n",
    "    sim_total = (sim_v + sim_h) / 255\n",
    "    return sim_total"
   ]
  },
  {
   "cell_type": "code",
   "execution_count": null,
   "id": "e1844778",
   "metadata": {},
   "outputs": [],
   "source": [
    "dados_train = []\n",
    "for _, linha in tqdm(train.iterrows(), total=len(train)):\n",
    "    label = linha[\"label\"]\n",
    "    imagem = linha.drop(\"label\").values.astype(np.float32)\n",
    "\n",
    "    intensidade = calcular_intensidade(imagem)\n",
    "    simetria = calcular_simetria(imagem)\n",
    "\n",
    "    dados_train.append([label, intensidade, simetria])\n",
    "\n",
    "train_redu = pd.DataFrame(dados_train, columns=[\"label\", \"intensidade\", \"simetria\"])\n",
    "train_redu.to_csv(\"train_redu.csv\", index=False)\n",
    "\n",
    "print(\"Novo train_redu.csv criado com formato:\", train_redu.shape)\n",
    "train_redu.head()"
   ]
  },
  {
   "cell_type": "code",
   "execution_count": null,
   "id": "87b76393",
   "metadata": {},
   "outputs": [],
   "source": [
    "dados_test = []\n",
    "for _, linha in tqdm(test.iterrows(), total=len(test)):\n",
    "    label = linha[\"label\"]\n",
    "    imagem = linha.drop(\"label\").values.astype(np.float32)\n",
    "\n",
    "    intensidade = calcular_intensidade(imagem)\n",
    "    simetria = calcular_simetria(imagem)\n",
    "\n",
    "    dados_test.append([label, intensidade, simetria])\n",
    "\n",
    "test_redu = pd.DataFrame(dados_test, columns=[\"label\", \"intensidade\", \"simetria\"])\n",
    "test_redu.to_csv(\"test_redu.csv\", index=False)\n",
    "\n",
    "print(\"Novo test_redu.csv criado com formato:\", test_redu.shape)\n",
    "test_redu.head()"
   ]
  }
 ],
 "metadata": {
  "language_info": {
   "name": "python"
  }
 },
 "nbformat": 4,
 "nbformat_minor": 5
}
