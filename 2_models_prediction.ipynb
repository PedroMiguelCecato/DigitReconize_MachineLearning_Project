{
 "cells": [
  {
   "cell_type": "markdown",
   "id": "0f72200b",
   "metadata": {},
   "source": [
    "# Filtrando dígitos 1 e 5 e treinando modelos"
   ]
  },
  {
   "cell_type": "code",
   "execution_count": null,
   "id": "04c14255",
   "metadata": {},
   "outputs": [],
   "source": [
    "import numpy as np\n",
    "import pandas as pd\n",
    "from tqdm import tqdm\n",
    "import matplotlib.pyplot as plt\n",
    "import matplotlib.patches as mpatches\n",
    "import seaborn as sns\n",
    "from sklearn.metrics import confusion_matrix, classification_report, accuracy_score, mean_squared_error, r2_score\n",
    "from sklearn.model_selection import train_test_split\n",
    "from sklearn.preprocessing import StandardScaler, MinMaxScaler"
   ]
  },
  {
   "cell_type": "code",
   "execution_count": null,
   "id": "f781336f",
   "metadata": {},
   "outputs": [],
   "source": [
    "train1x5 = train_redu[train_redu[\"label\"].isin([1, 5])].copy()\n",
    "test1x5  = test_redu[test_redu[\"label\"].isin([1, 5])].copy()\n",
    "\n",
    "train1x5[\"y\"] = train1x5[\"label\"].apply(lambda x: 1 if x == 1 else -1)\n",
    "test1x5[\"y\"]  = test1x5[\"label\"].apply(lambda x: 1 if x == 1 else -1)\n",
    "\n",
    "X_1x5 = train1x5[[\"intensidade\", \"simetria\"]].values.astype(float)\n",
    "y = train1x5[\"y\"].values.astype(int)\n",
    "\n",
    "X_train_1x5, X_val_1x5, y_train, y_val = train_test_split(\n",
    "    X_1x5, y, test_size=0.2, random_state=42, stratify=y\n",
    ")\n",
    "\n",
    "X_test_1x5 = test1x5[['intensidade','simetria']].values.astype(float)\n",
    "y_test = test1x5['y'].values.astype(int)\n",
    "\n",
    "scaler = MinMaxScaler()\n",
    "X_train = scaler.fit_transform(X_train_1x5)\n",
    "X_val   = scaler.transform(X_val_1x5)\n",
    "X_test  = scaler.transform(X_test_1x5)\n",
    "\n",
    "print(X_train)\n",
    "print(X_test)\n",
    "\n",
    "print(\"Tamanho treino:\", X_train.shape)\n",
    "print(\"Tamanho validação:\", X_val.shape)\n",
    "print(\"Tamanho teste:\", X_test.shape)"
   ]
  }
 ],
 "metadata": {
  "language_info": {
   "name": "python"
  }
 },
 "nbformat": 4,
 "nbformat_minor": 5
}
